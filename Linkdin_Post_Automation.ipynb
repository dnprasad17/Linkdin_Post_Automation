{
  "nbformat": 4,
  "nbformat_minor": 0,
  "metadata": {
    "colab": {
      "provenance": []
    },
    "kernelspec": {
      "name": "python3",
      "display_name": "Python 3"
    },
    "language_info": {
      "name": "python"
    }
  },
  "cells": [
    {
      "cell_type": "code",
      "execution_count": null,
      "metadata": {
        "colab": {
          "base_uri": "https://localhost:8080/"
        },
        "id": "3fnyufcRPYo2",
        "outputId": "db2889ad-043b-4415-cf6a-5771854b4fb8"
      },
      "outputs": [
        {
          "output_type": "stream",
          "name": "stdout",
          "text": [
            "Requirement already satisfied: requests in /usr/local/lib/python3.10/dist-packages (2.31.0)\n",
            "Requirement already satisfied: charset-normalizer<4,>=2 in /usr/local/lib/python3.10/dist-packages (from requests) (3.3.2)\n",
            "Requirement already satisfied: idna<4,>=2.5 in /usr/local/lib/python3.10/dist-packages (from requests) (3.6)\n",
            "Requirement already satisfied: urllib3<3,>=1.21.1 in /usr/local/lib/python3.10/dist-packages (from requests) (2.0.7)\n",
            "Requirement already satisfied: certifi>=2017.4.17 in /usr/local/lib/python3.10/dist-packages (from requests) (2023.11.17)\n"
          ]
        }
      ],
      "source": [
        "\n",
        "pip install requests"
      ]
    },
    {
      "cell_type": "code",
      "source": [
        "import requests\n",
        "\n",
        "\n",
        "client_id = \"xxxxxxxxxxxxxxxx\"\n",
        "client_secret = \"xxxxxxxxxxx\"\n",
        "access_token = \"x-xxx\"\n",
        "\n",
        "poll_question = \"What is your favorite programming language?\"\n",
        "poll_options = [\"Python\", \"Java\", \"JavaScript\", \"C++\"]\n",
        "poll_duration = \"THREE_DAYS\"\n",
        "\n",
        "\n",
        "payload = {\n",
        "    \"author\": \"urn:li:person:xyz\",\n",
        "    \"commentary\": poll_question,\n",
        "    \"visibility\": \"PUBLIC\",\n",
        "    \"distribution\": {\n",
        "        \"feedDistribution\": \"MAIN_FEED\",\n",
        "    },\n",
        "    \"lifecycleState\": \"PUBLISHED\",\n",
        "    \"isReshareDisabledByAuthor\": False,\n",
        "    \"content\": {\n",
        "        \"poll\": {\n",
        "            \"question\": poll_question,\n",
        "            \"options\": [{\"text\": option} for option in poll_options],\n",
        "            \"settings\": {\"duration\": poll_duration},\n",
        "        }\n",
        "    },\n",
        "}\n",
        "\n",
        "\n",
        "url = \"https://api.linkedin.com/rest/posts\"\n",
        "\n",
        "\n",
        "headers = {\n",
        "    \"Authorization\": f\"Bearer {access_token}\",\n",
        "    \"Content-Type\": \"application/json\",\n",
        "    \"LinkedIn-Version\": \"202311\"\n",
        "\n",
        "}\n",
        "\n",
        "\n",
        "response = requests.post(url, json=payload, headers=headers)\n",
        "\n",
        "\n",
        "if response.status_code == 201:\n",
        "    print(\"Poll created successfully!\")\n",
        "    print(f\"Post ID: {response.json()['id']}\")\n",
        "else:\n",
        "    print(f\"Error Creating Poll:{response.text} \")\n"
      ],
      "metadata": {
        "colab": {
          "base_uri": "https://localhost:8080/"
        },
        "id": "wuGVVaHnPbd0",
        "outputId": "25dee6a2-bae9-44a1-95f1-b2681b218b00"
      },
      "execution_count": 1,
      "outputs": [
        {
          "output_type": "stream",
          "name": "stdout",
          "text": [
            "Poll created successfully: \n"
          ]
        }
      ]
    },
    {
      "cell_type": "code",
      "source": [],
      "metadata": {
        "id": "2eGBgHWsPhoP"
      },
      "execution_count": null,
      "outputs": []
    }
  ]
}
